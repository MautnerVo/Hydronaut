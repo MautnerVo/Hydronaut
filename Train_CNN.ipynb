{
 "cells": [
  {
   "cell_type": "code",
   "id": "initial_id",
   "metadata": {
    "collapsed": true,
    "ExecuteTime": {
     "end_time": "2025-10-04T21:03:17.028279Z",
     "start_time": "2025-10-04T21:03:10.844861Z"
    }
   },
   "source": [
    "import numpy as np\n",
    "import torch\n",
    "import pickle\n",
    "import os\n",
    "from sklearn.model_selection import train_test_split\n",
    "import pandas as pd\n",
    "from torch.optim.lr_scheduler import ReduceLROnPlateau"
   ],
   "outputs": [],
   "execution_count": 1
  },
  {
   "metadata": {
    "ExecuteTime": {
     "end_time": "2025-10-04T21:03:17.036131Z",
     "start_time": "2025-10-04T21:03:17.033673Z"
    }
   },
   "cell_type": "code",
   "source": [
    "path = r\"Y:\\Datasets\\Fyzio\"\n",
    "exercise = \"Wide squat\"\n"
   ],
   "id": "d72b3714ae6c6950",
   "outputs": [],
   "execution_count": 2
  },
  {
   "metadata": {
    "ExecuteTime": {
     "end_time": "2025-10-04T21:09:54.950526Z",
     "start_time": "2025-10-04T21:03:17.043813Z"
    }
   },
   "cell_type": "code",
   "source": [
    "with open(os.path.join(path,\"X_train_w_augmentation\",exercise + \".pkl\"),\"rb\") as f:\n",
    "    x = np.array(pickle.load(f))\n",
    "    print(x.shape)\n",
    "\n"
   ],
   "id": "7ad0981892027cc2",
   "outputs": [
    {
     "name": "stdout",
     "output_type": "stream",
     "text": [
      "(40207, 200, 20)\n"
     ]
    }
   ],
   "execution_count": 3
  },
  {
   "metadata": {
    "ExecuteTime": {
     "end_time": "2025-10-04T21:09:55.495805Z",
     "start_time": "2025-10-04T21:09:55.296997Z"
    }
   },
   "cell_type": "code",
   "source": [
    "print(\"---- DATA DIAGNOSTICS ----\")\n",
    "print(\"Shape:\", x.shape)\n",
    "print(\"Dtype:\", x.dtype)\n",
    "print(\"NaN:\", np.isnan(x).any())\n",
    "print(\"Inf:\", np.isinf(x).any())"
   ],
   "id": "2df691e31b0cb98",
   "outputs": [
    {
     "name": "stdout",
     "output_type": "stream",
     "text": [
      "---- DATA DIAGNOSTICS ----\n",
      "Shape: (40207, 200, 20)\n",
      "Dtype: float64\n",
      "NaN: False\n",
      "Inf: False\n"
     ]
    }
   ],
   "execution_count": 4
  },
  {
   "metadata": {
    "ExecuteTime": {
     "end_time": "2025-10-04T21:10:02.652070Z",
     "start_time": "2025-10-04T21:09:55.531862Z"
    }
   },
   "cell_type": "code",
   "source": [
    "with open(os.path.join(path,\"Y_train_w_augmentation\",exercise + \".pkl\"),\"rb\") as f:\n",
    "    y = np.array(pickle.load(f))\n",
    "    print(y.shape)\n"
   ],
   "id": "cba7e8ccf8dffd95",
   "outputs": [
    {
     "name": "stdout",
     "output_type": "stream",
     "text": [
      "(40207, 1)\n"
     ]
    }
   ],
   "execution_count": 5
  },
  {
   "metadata": {
    "ExecuteTime": {
     "end_time": "2025-10-04T21:10:07.434093Z",
     "start_time": "2025-10-04T21:10:02.676841Z"
    }
   },
   "cell_type": "code",
   "source": [
    "\n",
    "x_norm = np.zeros_like(x)\n",
    "means = []\n",
    "stds = []\n",
    "print(x.shape)\n",
    "for ch in range(x.shape[2]):\n",
    "    mean = x[:, :, ch].mean()\n",
    "    std = x[:, :, ch].std()\n",
    "    x_norm[:, :, ch] = (x[:, :, ch] - mean) / std\n",
    "    means.append(mean)\n",
    "    stds.append(std)\n",
    "\n",
    "# y_min = y.min(axis=0, keepdims=True)\n",
    "# y_max = y.max(axis=0, keepdims=True)\n",
    "# y_norm = (y - y_min) / (y_max - y_min)\n",
    "y_norm = y/100"
   ],
   "id": "e5312fc03eab5592",
   "outputs": [
    {
     "name": "stdout",
     "output_type": "stream",
     "text": [
      "(40207, 200, 20)\n"
     ]
    }
   ],
   "execution_count": 6
  },
  {
   "metadata": {
    "ExecuteTime": {
     "end_time": "2025-10-04T21:10:07.649897Z",
     "start_time": "2025-10-04T21:10:07.469149Z"
    }
   },
   "cell_type": "code",
   "source": [
    "y_norm_t = torch.from_numpy(y_norm).float()[:,0]\n",
    "\n",
    "x_norm_t = torch.from_numpy(x_norm).float()\n",
    "x_norm_t = x_norm_t.permute(0,2,1)\n",
    "x_train,x_test,y_train,y_test = train_test_split(x_norm_t,y_norm_t,test_size=0.3,random_state=42)\n",
    "print(y_train)\n",
    "device = torch.device(\"cuda\" if torch.cuda.is_available() else \"cpu\")\n",
    "print(device)\n",
    "print(torch.__version__)\n",
    "print(torch.version.cuda)\n",
    "print(torch.backends.cudnn.version())"
   ],
   "id": "f91d0eef4b65fedf",
   "outputs": [
    {
     "name": "stdout",
     "output_type": "stream",
     "text": [
      "tensor([0.0000, 0.2046, 0.1205,  ..., 0.6786, 0.7732, 0.7084])\n",
      "cuda\n",
      "2.7.1+cu128\n",
      "12.8\n",
      "90701\n"
     ]
    }
   ],
   "execution_count": 7
  },
  {
   "metadata": {
    "ExecuteTime": {
     "end_time": "2025-10-04T22:25:22.516717Z",
     "start_time": "2025-10-04T22:25:22.510140Z"
    }
   },
   "cell_type": "code",
   "source": [
    "import torch\n",
    "import torch.nn as nn\n",
    "import torch.nn.functional as F\n",
    "\n",
    "cnn1 = 64\n",
    "cnn2 = 128\n",
    "cnn3 = 128\n",
    "class Net(nn.Module):\n",
    "    def __init__(self, in_channels,seq_len):\n",
    "        super(Net,self).__init__()\n",
    "        self.cnn1 = nn.Conv1d(in_channels, cnn1, kernel_size=3, padding=1)\n",
    "        self.normalization1=nn.BatchNorm1d(cnn1)\n",
    "        self.pool1= nn.MaxPool1d(2)\n",
    "        self.cnn2 = nn.Conv1d(cnn1, cnn2, kernel_size=3, padding=1)\n",
    "        self.normalization2=nn.BatchNorm1d(cnn2)\n",
    "        self.pool2= nn.MaxPool1d(2)\n",
    "        self.cnn3 = nn.Conv1d(cnn2, cnn3, kernel_size=3, padding=1)\n",
    "        self.normalization3=nn.BatchNorm1d(cnn3)\n",
    "        self.pool3= nn.MaxPool1d(2)\n",
    "        self.flatten = nn.Flatten()\n",
    "\n",
    "        with torch.no_grad():\n",
    "            dummy = torch.zeros(1, in_channels, seq_len)\n",
    "            out = self.pool1(F.relu(self.cnn1(dummy)))\n",
    "            out = self.pool2(F.relu(self.cnn2(out)))\n",
    "            out = self.pool3(F.relu(self.cnn3(out)))\n",
    "            flat_dim = out.view(1, -1).size(1)\n",
    "\n",
    "\n",
    "        self.snn1 = nn.Linear(flat_dim, 64)\n",
    "        self.dropout1 = nn.Dropout(p=0.5)\n",
    "        self.snn2 = nn.Linear(64, 8)\n",
    "        self.dropout2 = nn.Dropout(p=0.3)\n",
    "        self.snn3 = nn.Linear(8, 2)\n",
    "\n",
    "    def forward(self, x):\n",
    "        x = self.cnn1(x)\n",
    "        x = F.relu(x)\n",
    "        x = self.normalization1(x)\n",
    "        x = self.pool1(x)\n",
    "        x = self.cnn2(x)\n",
    "        x = F.relu(x)\n",
    "        x = self.normalization2(x)\n",
    "        x = self.pool2(x)\n",
    "        x = self.cnn3(x)\n",
    "        x = F.relu(x)\n",
    "        x = self.normalization3(x)\n",
    "        x = self.pool3(x)\n",
    "        x = self.flatten(x)\n",
    "        x = self.snn1(x)\n",
    "        x = F.relu(x)\n",
    "        # x = self.dropout1(x)\n",
    "        x = self.snn2(x)\n",
    "        x = F.relu(x)\n",
    "        # x = self.dropout2(x)\n",
    "        out = self.snn3(x)\n",
    "        return out\n",
    "\n",
    "\n",
    "\n",
    "def circ_signed_diff(y_true, y_pred, period=1.0):\n",
    "    \"\"\"\n",
    "    Nejkratší rozdíl na kružnici v rozsahu [-period/2, period/2].\n",
    "    Očekává tensory stejného tvaru.\n",
    "    \"\"\"\n",
    "    diff = y_pred - y_true\n",
    "    return (diff + period/2) % period - period/2\n",
    "\n",
    "class CircularMSELoss(nn.Module):\n",
    "    def __init__(self, period=1.0, reduction='mean'):\n",
    "        super().__init__()\n",
    "        self.period = period\n",
    "        self.reduction = reduction\n",
    "\n",
    "    def forward(self, y_pred, y_true):\n",
    "        d = circ_signed_diff(y_true, y_pred, self.period)\n",
    "        loss = d ** 2\n",
    "        if self.reduction == 'mean':\n",
    "            return loss.mean()\n",
    "        elif self.reduction == 'sum':\n",
    "            return loss.sum()\n",
    "        else:\n",
    "            return loss\n",
    "\n",
    "def circular_mae(y_true, y_pred):\n",
    "    diff = np.abs(y_true - y_pred)\n",
    "    diff = np.minimum(diff, 1 - diff)  # zohlední \"přeskočení\" kolem 0\n",
    "    return np.mean(diff)\n",
    "# in_channels = x_train.shape[1]\n",
    "# seq_len = x_train.shape[2]\n",
    "#\n",
    "# out_features = 1\n",
    "#\n",
    "# net = Net(in_channels,seq_len).to(device)\n",
    "# params = list(net.parameters())\n",
    "# print(len(params))\n",
    "# print(params[0].size())\n"
   ],
   "id": "4fc1ece83b23cc6a",
   "outputs": [],
   "execution_count": 27
  },
  {
   "metadata": {
    "ExecuteTime": {
     "end_time": "2025-10-04T21:10:07.694351Z",
     "start_time": "2025-10-04T21:10:07.690987Z"
    }
   },
   "cell_type": "code",
   "source": [
    "# from torch.utils.data import TensorDataset, DataLoader\n",
    "#\n",
    "# train_dataset = TensorDataset(x_train, y_train)\n",
    "# val_dataset = TensorDataset(x_test, y_test)\n",
    "# train_loader = DataLoader(train_dataset, batch_size=32, shuffle=True)\n",
    "# val_loader = DataLoader(val_dataset, batch_size=32, shuffle=False)"
   ],
   "id": "ce2ec25e33b7cd4e",
   "outputs": [],
   "execution_count": 9
  },
  {
   "metadata": {
    "ExecuteTime": {
     "end_time": "2025-10-04T21:10:07.703369Z",
     "start_time": "2025-10-04T21:10:07.698754Z"
    }
   },
   "cell_type": "code",
   "source": [
    "def add_noise(x, noise_factor=0.001):\n",
    "    return x + noise_factor * torch.randn_like(x)\n",
    "\n",
    "def time_shift(x, shift_max=10):\n",
    "    shift = int(torch.randint(-shift_max, shift_max+1, (1,)))\n",
    "    return torch.roll(x, shifts=shift)\n",
    "\n",
    "def scale(x, factor_range=(0.9, 1.1)):\n",
    "    factor = torch.empty(1).uniform_(*factor_range)\n",
    "    return x * factor\n",
    "\n",
    "def drop(x):\n",
    "    x = x.clone()\n",
    "    n_channels = x.shape[0]\n",
    "    ch = torch.randint(0, n_channels,(1,)).item()\n",
    "    x[ch, :] = 0.0\n",
    "    return x\n",
    "\n",
    "def random_augment(x):\n",
    "    if torch.rand(1) < 0.4:\n",
    "        x = add_noise(x)\n",
    "    if torch.rand(1) < 0.3:\n",
    "        x = time_shift(x)\n",
    "    if torch.rand(1) < 0.2:\n",
    "        x = scale(x)\n",
    "    if torch.rand(1) < 0.3:\n",
    "        x = drop(x)\n",
    "    return x\n"
   ],
   "id": "3611ad40e2225609",
   "outputs": [],
   "execution_count": 10
  },
  {
   "metadata": {
    "ExecuteTime": {
     "end_time": "2025-10-04T21:10:07.716896Z",
     "start_time": "2025-10-04T21:10:07.712657Z"
    }
   },
   "cell_type": "code",
   "source": [
    "from torch.utils.data import Dataset\n",
    "\n",
    "class AugmentedSignalDataset(Dataset):\n",
    "    def __init__(self, X, Y, augment=True):\n",
    "        self.X = X\n",
    "        self.Y = Y\n",
    "        self.augment = augment\n",
    "\n",
    "    def __len__(self):\n",
    "        return len(self.X)\n",
    "\n",
    "    def __getitem__(self, idx):\n",
    "        x = self.X[idx]\n",
    "        y = self.Y[idx]\n",
    "        if self.augment:\n",
    "            x = random_augment(x)\n",
    "        y_vec = torch.tensor([torch.sin(2 * np.pi * y), torch.cos(2 * np.pi * y)], dtype=torch.float32)\n",
    "        return x, y_vec\n"
   ],
   "id": "114967881a5d6662",
   "outputs": [],
   "execution_count": 11
  },
  {
   "metadata": {
    "jupyter": {
     "is_executing": true
    },
    "ExecuteTime": {
     "start_time": "2025-10-04T22:25:26.169053Z"
    }
   },
   "cell_type": "code",
   "source": [
    "from sklearn.model_selection import KFold\n",
    "from torch.utils.data import DataLoader\n",
    "from sklearn.metrics import mean_squared_error, r2_score\n",
    "kf = KFold(n_splits=5, shuffle=True, random_state=42)\n",
    "\n",
    "X = x_norm_t.cpu().numpy()\n",
    "Y = y_norm_t.cpu().numpy()\n",
    "\n",
    "in_channels = x_train.shape[1]\n",
    "seq_len = x_train.shape[2]\n",
    "epochs = 100\n",
    "batch_size = 256\n",
    "nets = []\n",
    "fold_results = []\n",
    "\n",
    "for fold, (train_idx, val_idx) in enumerate(kf.split(X)):\n",
    "    print(f\"Fold {fold+1}\")\n",
    "\n",
    "    X_train, X_val = X[train_idx], X[val_idx]\n",
    "    Y_train, Y_val = Y[train_idx], Y[val_idx]\n",
    "\n",
    "    X_train_tensor = torch.tensor(X_train, dtype=torch.float32)\n",
    "    Y_train_tensor = torch.tensor(Y_train, dtype=torch.float32).view(-1, 1)\n",
    "    X_val_tensor = torch.tensor(X_val, dtype=torch.float32)\n",
    "    Y_val_tensor = torch.tensor(Y_val, dtype=torch.float32).view(-1, 1)\n",
    "\n",
    "    train_dataset = AugmentedSignalDataset(X_train_tensor, Y_train_tensor,augment=True)\n",
    "    val_dataset = AugmentedSignalDataset(X_val_tensor, Y_val_tensor,augment=False)\n",
    "    train_loader = DataLoader(train_dataset, batch_size=batch_size, shuffle=True,pin_memory=True)\n",
    "    val_loader = DataLoader(val_dataset, batch_size=batch_size, shuffle=False,pin_memory=True)\n",
    "\n",
    "    net = Net(in_channels, seq_len).to(device)\n",
    "    optimizer = torch.optim.Adam(net.parameters(), lr=1e-3)\n",
    "    # criterion = CircularMSELoss()\n",
    "    criterion = nn.MSELoss()\n",
    "    # criterion = nn.L1Loss()\n",
    "    scheduler = ReduceLROnPlateau(optimizer, mode='min', factor=0.5, patience=5)\n",
    "\n",
    "    for epoch in range(epochs):\n",
    "        net.train()\n",
    "        train_loss = 0.0\n",
    "        for batch_X, batch_y in train_loader:\n",
    "            batch_X = batch_X.to(device)\n",
    "            batch_y = batch_y.to(device)\n",
    "\n",
    "            optimizer.zero_grad()\n",
    "            outputs = net(batch_X)\n",
    "            loss = criterion(outputs, batch_y)\n",
    "            loss.backward()\n",
    "            optimizer.step()\n",
    "\n",
    "            train_loss += loss.item()\n",
    "        train_loss /= len(train_loader)\n",
    "\n",
    "\n",
    "        net.eval()\n",
    "        val_loss = 0.0\n",
    "        with torch.no_grad():\n",
    "            for batch_X, batch_y in val_loader:\n",
    "                batch_X = batch_X.to(device)\n",
    "                batch_y = batch_y.to(device)\n",
    "                val_outputs = net(batch_X)\n",
    "                loss = criterion(val_outputs, batch_y)\n",
    "                val_loss += loss.item()\n",
    "        val_loss /= len(val_loader)\n",
    "        scheduler.step(val_loss)\n",
    "        if (epoch+1) % 10 == 0:\n",
    "            print(f\"Epoch {epoch+1}/{epochs}, Train Loss: {train_loss:.4f}, Val Loss: {val_loss:.4f}\")\n",
    "\n",
    "    net.eval()\n",
    "    with torch.no_grad():\n",
    "        outputs = net(X_val_tensor.to(device))\n",
    "        outputs_np = outputs.cpu().numpy()\n",
    "        pred_phase = np.arctan2(outputs_np[:,0], outputs_np[:,1]) / (2*np.pi)\n",
    "        pred_phase = (pred_phase + 1) % 1.0\n",
    "\n",
    "        y_true = Y_val_tensor.cpu().numpy().flatten()\n",
    "\n",
    "    mse = mean_squared_error(y_true, pred_phase)\n",
    "    r2 = r2_score(y_true, pred_phase)\n",
    "    cme = circular_mae(y_true, pred_phase)\n",
    "    # print(f\"Fold {fold+1} - MSE: {mse:.4f}, R²: {r2:.4f}\\n\")\n",
    "    print(f\"Fold {fold+1} - MSE: {mse:.4f}, CME: {cme:.4f}\\n\")\n",
    "    fold_results.append((y_true, pred_phase))\n",
    "    nets.append(net)\n",
    "\n",
    "\n",
    "mse_l = []\n",
    "r2_l = []\n",
    "\n",
    "for y_true, preds in fold_results:\n",
    "    mse_l.append(mean_squared_error(y_true, preds))\n",
    "    r2_l.append(r2_score(y_true, preds))\n",
    "\n",
    "print(np.mean(mse_l))\n",
    "print(np.mean(r2_l))"
   ],
   "id": "1049bb0ea9bb07fa",
   "outputs": [
    {
     "name": "stdout",
     "output_type": "stream",
     "text": [
      "Fold 1\n"
     ]
    }
   ],
   "execution_count": null
  },
  {
   "metadata": {
    "ExecuteTime": {
     "end_time": "2025-10-04T22:15:40.059585Z",
     "start_time": "2025-10-04T22:15:40.056542Z"
    }
   },
   "cell_type": "code",
   "source": [
    "#Training\n",
    "\n",
    "# import torch.optim as optim\n",
    "# from sklearn.model_selection import KFold\n",
    "# criterion = nn.MSELoss()\n",
    "# optimizer = optim.Adam(net.parameters(), lr=5e-4)\n",
    "#\n",
    "#\n",
    "# epochs = 100\n",
    "# for epoch in range(epochs):\n",
    "#     net.train()\n",
    "#     train_loss = 0.0\n",
    "#     for batch_X, batch_y in train_loader:\n",
    "#         batch_X = batch_X.to(device)\n",
    "#         batch_y = batch_y.to(device).float().unsqueeze(1)\n",
    "#\n",
    "#         optimizer.zero_grad()\n",
    "#         outputs = net(batch_X)\n",
    "#         loss = criterion(outputs, batch_y)\n",
    "#         loss.backward()\n",
    "#         optimizer.step()\n",
    "#\n",
    "#         train_loss += loss.item()\n",
    "#\n",
    "#     train_loss /= len(train_loader)\n",
    "#\n",
    "#     net.eval()\n",
    "#     val_loss = 0.0\n",
    "#     with torch.no_grad():\n",
    "#         for batch_X, batch_y in val_loader:\n",
    "#             batch_X = batch_X.to(device)\n",
    "#             batch_y = batch_y.to(device).float().unsqueeze(1)\n",
    "#             val_outputs = net(batch_X)\n",
    "#             loss = criterion(val_outputs, batch_y)\n",
    "#             val_loss += loss.item()\n",
    "#\n",
    "#     val_loss /= len(val_loader)\n",
    "#\n",
    "#     print(f\"Epoch {epoch+1}/{epochs}, Train Loss: {train_loss:.4f}, Val Loss: {val_loss:.4f}\\n\")\n"
   ],
   "id": "12e79aea9f4c6047",
   "outputs": [],
   "execution_count": 13
  },
  {
   "metadata": {
    "ExecuteTime": {
     "end_time": "2025-10-04T22:15:40.078559Z",
     "start_time": "2025-10-04T22:15:40.077016Z"
    }
   },
   "cell_type": "code",
   "source": "",
   "id": "89bd161b3fb95ad4",
   "outputs": [],
   "execution_count": null
  },
  {
   "metadata": {
    "ExecuteTime": {
     "end_time": "2025-10-04T22:25:03.504177Z",
     "start_time": "2025-10-04T22:25:03.449037Z"
    }
   },
   "cell_type": "code",
   "source": [
    "import matplotlib.pyplot as plt\n",
    "plt.plot(x_train[10][4])\n",
    "plt.show()"
   ],
   "id": "228d4fa91bf2d98e",
   "outputs": [
    {
     "data": {
      "text/plain": [
       "<Figure size 640x480 with 1 Axes>"
      ],
      "image/png": "[encoded data removed]"
     },
     "metadata": {},
     "output_type": "display_data",
     "jetTransient": {
      "display_id": null
     }
    }
   ],
   "execution_count": 25
  },
  {
   "metadata": {
    "ExecuteTime": {
     "end_time": "2025-10-04T22:25:06.625457Z",
     "start_time": "2025-10-04T22:25:06.346800Z"
    }
   },
   "cell_type": "code",
   "source": [
    "sorted_indices = np.argsort(y_test)\n",
    "\n",
    "y_test_sorted = y_test[sorted_indices]\n",
    "x_test_sorted = x_test[sorted_indices]\n",
    "\n",
    "outputs = []\n",
    "with torch.no_grad():\n",
    "    for net in nets:\n",
    "        outputs.append(net(x_test_sorted.to(device)))\n",
    "\n",
    "preds_list = [out.cpu().numpy() for out in outputs]\n",
    "predictions = []\n",
    "\n",
    "for i in preds_list:\n",
    "    pred_phase = np.arctan2(i[:,0], i[:,1]) / (2*np.pi)\n",
    "    pred_phase = (pred_phase + 1) % 1.0\n",
    "    predictions.append(pred_phase)\n",
    "\n",
    "fig, axes = plt.subplots(5, 1, figsize=(10, 20))\n",
    "\n",
    "for i, ax in enumerate(axes):\n",
    "    ax.plot(predictions[i], 'rx', linestyle='None', label=\"Predictions\")\n",
    "    ax.plot(y_test_sorted, color=\"blue\", label=\"True\")\n",
    "    ax.set_title(f'Network {i+1}')\n",
    "    ax.legend()\n",
    "\n",
    "plt.tight_layout()\n",
    "plt.show()\n"
   ],
   "id": "372f718b7c4c906f",
   "outputs": [
    {
     "ename": "IndexError",
     "evalue": "list index out of range",
     "output_type": "error",
     "traceback": [
      "\u001B[31m---------------------------------------------------------------------------\u001B[39m",
      "\u001B[31mIndexError\u001B[39m                                Traceback (most recent call last)",
      "\u001B[36mCell\u001B[39m\u001B[36m \u001B[39m\u001B[32mIn[26]\u001B[39m\u001B[32m, line 22\u001B[39m\n\u001B[32m     19\u001B[39m fig, axes = plt.subplots(\u001B[32m5\u001B[39m, \u001B[32m1\u001B[39m, figsize=(\u001B[32m10\u001B[39m, \u001B[32m20\u001B[39m))\n\u001B[32m     21\u001B[39m \u001B[38;5;28;01mfor\u001B[39;00m i, ax \u001B[38;5;129;01min\u001B[39;00m \u001B[38;5;28menumerate\u001B[39m(axes):\n\u001B[32m---> \u001B[39m\u001B[32m22\u001B[39m     ax.plot(\u001B[43mpredictions\u001B[49m\u001B[43m[\u001B[49m\u001B[43mi\u001B[49m\u001B[43m]\u001B[49m, \u001B[33m'\u001B[39m\u001B[33mrx\u001B[39m\u001B[33m'\u001B[39m, linestyle=\u001B[33m'\u001B[39m\u001B[33mNone\u001B[39m\u001B[33m'\u001B[39m, label=\u001B[33m\"\u001B[39m\u001B[33mPredictions\u001B[39m\u001B[33m\"\u001B[39m)\n\u001B[32m     23\u001B[39m     ax.plot(y_test_sorted, color=\u001B[33m\"\u001B[39m\u001B[33mblue\u001B[39m\u001B[33m\"\u001B[39m, label=\u001B[33m\"\u001B[39m\u001B[33mTrue\u001B[39m\u001B[33m\"\u001B[39m)\n\u001B[32m     24\u001B[39m     ax.set_title(\u001B[33mf\u001B[39m\u001B[33m'\u001B[39m\u001B[33mNetwork \u001B[39m\u001B[38;5;132;01m{\u001B[39;00mi+\u001B[32m1\u001B[39m\u001B[38;5;132;01m}\u001B[39;00m\u001B[33m'\u001B[39m)\n",
      "\u001B[31mIndexError\u001B[39m: list index out of range"
     ]
    },
    {
     "data": {
      "text/plain": [
       "<Figure size 1000x2000 with 5 Axes>"
      ],
      "image/png": "[encoded data removed]"
     },
     "metadata": {},
     "output_type": "display_data",
     "jetTransient": {
      "display_id": null
     }
    }
   ],
   "execution_count": 26
  },
  {
   "metadata": {
    "ExecuteTime": {
     "end_time": "2025-10-04T22:18:26.213876Z",
     "start_time": "2025-10-04T22:18:26.210948Z"
    }
   },
   "cell_type": "code",
   "source": [
    "for index,net in enumerate(nets):\n",
    "    os.makedirs(f\"models\",exist_ok=True)\n",
    "    torch.save(net.state_dict(), fr\"models/cnn_model_augmentation_{index+1}.pth\")\n",
    "    print(index)"
   ],
   "id": "ee1e620c694dd437",
   "outputs": [],
   "execution_count": 21
  },
  {
   "metadata": {
    "ExecuteTime": {
     "end_time": "2025-10-04T22:15:41.943679Z",
     "start_time": "2025-10-04T22:15:41.941434Z"
    }
   },
   "cell_type": "code",
   "source": "",
   "id": "d71bfb03a3f2ce70",
   "outputs": [],
   "execution_count": null
  }
 ],
 "metadata": {
  "kernelspec": {
   "display_name": "Python 3",
   "language": "python",
   "name": "python3"
  },
  "language_info": {
   "codemirror_mode": {
    "name": "ipython",
    "version": 2
   },
   "file_extension": ".py",
   "mimetype": "text/x-python",
   "name": "python",
   "nbconvert_exporter": "python",
   "pygments_lexer": "ipython2",
   "version": "2.7.6"
  }
 },
 "nbformat": 4,
 "nbformat_minor": 5
}
